{
 "cells": [
  {
   "cell_type": "code",
   "execution_count": 1,
   "id": "df2a0474",
   "metadata": {},
   "outputs": [
    {
     "name": "stdout",
     "output_type": "stream",
     "text": [
      "  Sample# VOC#     RI   35   36   37   38   39   40   41  ...  292  293  294  \\\n",
      "0     2.0  1.0  598.0  0.0  0.0  0.0  0.0  0.0  0.0  0.0  ...  0.0  0.0  0.0   \n",
      "1     1.0  1.0  599.0  0.0  0.0  0.0  0.0  0.0  0.0  0.0  ...  0.0  0.0  0.0   \n",
      "2     3.0  1.0  599.0  0.0  0.0  0.0  0.0  0.0  0.0  0.0  ...  0.0  0.0  0.0   \n",
      "3     4.0  1.0  599.0  0.0  0.0  0.0  0.0  0.0  0.0  0.0  ...  0.0  0.0  0.0   \n",
      "4     5.0  1.0  598.0  0.0  0.0  0.0  0.0  0.0  0.0  0.0  ...  0.0  0.0  0.0   \n",
      "\n",
      "   295  296  297  298  299  300  Unnamed: 269  \n",
      "0  0.0  0.0  0.0  0.0  0.0  0.0           NaN  \n",
      "1  0.0  0.0  0.0  0.0  0.0  0.0           NaN  \n",
      "2  0.0  0.0  0.0  0.0  0.0  0.0           NaN  \n",
      "3  0.0  0.0  0.0  0.0  0.0  0.0           NaN  \n",
      "4  0.0  0.0  0.0  0.0  0.0  0.0           NaN  \n",
      "\n",
      "[5 rows x 270 columns]\n"
     ]
    }
   ],
   "source": [
    "import pandas as pd\n",
    "file_path = r'C:\\Users\\hocke\\Desktop\\voc cluster tests\\Batch 1\\RI_Report.csv'\n",
    "test = pd.read_csv(file_path)\n",
    "\n"
   ]
  },
  {
   "cell_type": "code",
   "execution_count": 5,
   "id": "e0e693e2",
   "metadata": {},
   "outputs": [
    {
     "name": "stdout",
     "output_type": "stream",
     "text": [
      "Number of rows starting with '#': 42\n"
     ]
    }
   ],
   "source": [
    "import csv\n",
    "\n",
    "def count_hash_rows(filename):\n",
    "    hash_count = 0\n",
    "\n",
    "    with open(filename, 'r') as csv_file:\n",
    "        csv_reader = csv.reader(csv_file)\n",
    "        for row in csv_reader:\n",
    "            if row and row[0].startswith('#'):\n",
    "                hash_count += 1\n",
    "\n",
    "    return hash_count\n",
    "\n",
    "\n",
    "csv_filename = r'C:\\Users\\hocke\\Desktop\\voc cluster tests\\Batch 1\\RI_Report.csv'\n",
    "hash_rows_count = count_hash_rows(csv_filename)\n",
    "print(f\"Number of rows starting with '#': {hash_rows_count}\")"
   ]
  },
  {
   "cell_type": "code",
   "execution_count": 31,
   "id": "e1683bda",
   "metadata": {},
   "outputs": [
    {
     "name": "stdout",
     "output_type": "stream",
     "text": [
      "completed\n",
      "<bound method NDFrame.head of                                                Sample#      VOC#          RI  \\\n",
      "0                                                    1         2  599.000000   \n",
      "1                                                    3         2  599.000000   \n",
      "2                                                    4         2  598.000000   \n",
      "3    ##############################################...       NaN         NaN   \n",
      "4                                                  NaN     MaxRI  599.000000   \n",
      "..                                                 ...       ...         ...   \n",
      "197                                                NaN     MaxRI  866.000000   \n",
      "198                                                NaN     MinRI  859.000000   \n",
      "199                                                NaN  Delta RI    7.000000   \n",
      "200                                                NaN  RI COV %    0.350719   \n",
      "201  ##############################################...       NaN         NaN   \n",
      "\n",
      "      Total Ion   35   36   37   38   39   40  ...  291  292  293  294  295  \\\n",
      "0    64264544.0  0.0  0.0  0.0  0.0  0.0  0.0  ...  0.0  0.0  0.0  0.0  0.0   \n",
      "1    49584582.0  0.0  0.0  0.0  0.0  0.0  0.0  ...  0.0  0.0  0.0  0.0  0.0   \n",
      "2    51434931.0  0.0  0.0  0.0  0.0  0.0  0.0  ...  0.0  0.0  0.0  0.0  0.0   \n",
      "3           NaN  NaN  NaN  NaN  NaN  NaN  NaN  ...  NaN  NaN  NaN  NaN  NaN   \n",
      "4           NaN  NaN  NaN  NaN  NaN  NaN  NaN  ...  NaN  NaN  NaN  NaN  NaN   \n",
      "..          ...  ...  ...  ...  ...  ...  ...  ...  ...  ...  ...  ...  ...   \n",
      "197         NaN  NaN  NaN  NaN  NaN  NaN  NaN  ...  NaN  NaN  NaN  NaN  NaN   \n",
      "198         NaN  NaN  NaN  NaN  NaN  NaN  NaN  ...  NaN  NaN  NaN  NaN  NaN   \n",
      "199         NaN  NaN  NaN  NaN  NaN  NaN  NaN  ...  NaN  NaN  NaN  NaN  NaN   \n",
      "200         NaN  NaN  NaN  NaN  NaN  NaN  NaN  ...  NaN  NaN  NaN  NaN  NaN   \n",
      "201         NaN  NaN  NaN  NaN  NaN  NaN  NaN  ...  NaN  NaN  NaN  NaN  NaN   \n",
      "\n",
      "     296  297  298  299  300  \n",
      "0    0.0  0.0  0.0  0.0  0.0  \n",
      "1    0.0  0.0  0.0  0.0  0.0  \n",
      "2    0.0  0.0  0.0  0.0  0.0  \n",
      "3    NaN  NaN  NaN  NaN  NaN  \n",
      "4    NaN  NaN  NaN  NaN  NaN  \n",
      "..   ...  ...  ...  ...  ...  \n",
      "197  NaN  NaN  NaN  NaN  NaN  \n",
      "198  NaN  NaN  NaN  NaN  NaN  \n",
      "199  NaN  NaN  NaN  NaN  NaN  \n",
      "200  NaN  NaN  NaN  NaN  NaN  \n",
      "201  NaN  NaN  NaN  NaN  NaN  \n",
      "\n",
      "[202 rows x 270 columns]>\n"
     ]
    }
   ],
   "source": [
    "import pandas as pd \n",
    "\n",
    "file = r'C:\\Users\\hocke\\Desktop\\voc cluster tests\\test 2\\Batch 1\\RI_Report.csv'\n",
    "\n",
    "df = pd.read_csv(file)\n",
    "\n",
    "df.columns\n",
    "\n",
    "df['total_ion'] = df.iloc[:, 2:].sum(axis=1)\n",
    "total_ion = df.pop(\"total_ion\")\n",
    "df.insert(3, \"Total Ion\", total_ion )\n",
    "column_name = 'Total Ion'\n",
    "df[column_name] = df[column_name][df[column_name] >= 5000]\n",
    "\n",
    "df.to_csv(r'C:\\Users\\hocke\\Desktop\\voc cluster tests\\test 2\\Batch 1\\sssss.csv', index=False)\n",
    "print('completed')\n",
    "print(df.head)"
   ]
  },
  {
   "cell_type": "code",
   "execution_count": null,
   "id": "35860727",
   "metadata": {},
   "outputs": [],
   "source": []
  }
 ],
 "metadata": {
  "kernelspec": {
   "display_name": "Python 3 (ipykernel)",
   "language": "python",
   "name": "python3"
  },
  "language_info": {
   "codemirror_mode": {
    "name": "ipython",
    "version": 3
   },
   "file_extension": ".py",
   "mimetype": "text/x-python",
   "name": "python",
   "nbconvert_exporter": "python",
   "pygments_lexer": "ipython3",
   "version": "3.9.12"
  }
 },
 "nbformat": 4,
 "nbformat_minor": 5
}
